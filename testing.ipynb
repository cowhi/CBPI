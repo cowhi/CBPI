{
 "cells": [
  {
   "cell_type": "code",
   "execution_count": 98,
   "metadata": {
    "collapsed": false,
    "deletable": true,
    "editable": true
   },
   "outputs": [],
   "source": [
    "%matplotlib inline\n",
    "\n",
    "import os\n",
    "import pandas as pd\n",
    "import numpy as np\n",
    "import matplotlib.pyplot as plt\n",
    "import glob\n",
    "import statsmodels.stats.api as sms\n",
    "import scipy as sp\n",
    "import scipy.stats\n",
    "import csv\n",
    "\n",
    "def plot_run(path_to_dir):\n",
    "    df = pd.read_csv(os.path.join(path_to_dir, 'stats_run.csv'))\n",
    "    # print(df)\n",
    "    for column in df.columns:\n",
    "        plt.figure(figsize=(10,6), dpi=80)\n",
    "        #plt.scatter(df['episode'], df[column])\n",
    "        plt.plot(df['episode'], df[column],\n",
    "                 label=column, color='blue', linewidth=2.0)\n",
    "        plt.ylabel(column, fontsize=20, fontweight='bold')\n",
    "        plt.xlabel('episodes', fontsize=20, fontweight='bold')\n",
    "        plt.legend(fontsize=14)\n",
    "        plt.savefig(os.path.join(path_to_dir, 'plot_' + str(column) + '.png'))\n",
    "        plt.show()\n",
    "\n",
    "def plot_runs(path_to_dir):\n",
    "    run_dirs = glob.glob(os.path.join(path_to_dir) + '/*/')\n",
    "    dfs = []\n",
    "    for run_dir in run_dirs:\n",
    "        dfs.append(pd.read_csv(os.path.join(run_dir, 'stats_run.csv')))\n",
    "    for column in dfs[0].columns:\n",
    "        plt.figure(figsize=(10, 6), dpi=80)\n",
    "        run_count = 1\n",
    "        for df in dfs:    \n",
    "            plt.plot(df['episode'], df[column],\n",
    "                     label=column+'_'+str(run_count), linewidth=2.0)\n",
    "            run_count += 1\n",
    "        plt.ylabel(column, fontsize=20, fontweight='bold')\n",
    "        plt.xlabel('episodes', fontsize=20, fontweight='bold')\n",
    "        plt.legend(fontsize=14)\n",
    "        plt.savefig(os.path.join(path_to_dir, 'plot_' + str(column) + '.png'))\n",
    "        plt.show()\n",
    "            \n",
    "def summarize_runs(path_to_dir):\n",
    "    run_dirs = glob.glob(os.path.join(path_to_dir) + '/*/')\n",
    "    run_files = [os.path.join(run_dir, 'stats_run.csv') for run_dir in run_dirs]\n",
    "    df = pd.concat((pd.read_csv(run_file) for run_file in run_files))\n",
    "    steps = df.groupby(['episode'])['steps_mean']\n",
    "    steps = list(steps)\n",
    "    reward = df.groupby(['episode'])['reward_mean']\n",
    "    reward = list(reward)\n",
    "    summary = []\n",
    "    for episode in range(0, len(reward)):\n",
    "        step_mean, step_lower, step_upper = mean_confidence_interval(steps[episode][1])\n",
    "        reward_mean, reward_lower, reward_upper = mean_confidence_interval(reward[episode][1])\n",
    "        summary.append([episode, step_mean, step_lower, step_upper, reward_mean, reward_lower, reward_upper])\n",
    "    \n",
    "    header = ['episode', 'steps_mean', 'steps_lower', 'steps_upper', 'reward_mean', 'reward_lower', 'reward_upper']\n",
    "    try:\n",
    "        with open(os.path.join(path_to_dir, 'stats_task1.csv'), 'w') as csvfile:\n",
    "            writer = csv.writer(csvfile, dialect='excel', quoting=csv.QUOTE_NONNUMERIC)\n",
    "            writer.writerow(header)\n",
    "            for data in summary:\n",
    "                writer.writerow(data)\n",
    "    except IOError as e:\n",
    "        print(\"Can't write stats file - %s \" % str(e))\n",
    "        #_logger.critical(\"Can't write stats file - %s \" % str(e))\n",
    "        # sys.exit()\n",
    "    \n",
    "def mean_confidence_interval(my_list, confidence=0.95):\n",
    "    my_array = 1.0 * np.array(my_list)\n",
    "    array_mean, array_se = np.mean(my_array), scipy.stats.sem(my_array)\n",
    "    margin = array_se * sp.stats.t._ppf((1 + confidence) / 2.,\n",
    "                                        len(my_array) - 1)\n",
    "    return array_mean, array_mean - margin, array_mean + margin\n",
    "\n",
    "def plot_task(path_to_dir):\n",
    "    df = pd.read_csv(os.path.join(path_to_dir, 'stats_task.csv'))\n",
    "    factors = ['steps', 'reward']\n",
    "    colors = ['blue', 'green']\n",
    "    for factor, color in zip(factors, colors):\n",
    "        plt.figure(figsize=(10, 6), dpi=80)\n",
    "        plt.plot(df['episode'], df[factor + '_mean'],\n",
    "                 label=factor+'_mean', color=color, linewidth=2.0)\n",
    "        plt.plot(df['episode'], df[factor + '_lower'],\n",
    "                 label=factor+'_lower', color=color, linewidth=1.0)\n",
    "        plt.plot(df['episode'], df[factor + '_upper'],\n",
    "                 label=factor+'_upper', color=color, linewidth=1.0)\n",
    "        plt.fill_between(df['episode'], df[factor + '_mean'],\n",
    "                         df[factor + '_lower'],\n",
    "                         facecolor=color, alpha=0.2)\n",
    "        plt.fill_between(df['episode'], df[factor + '_mean'],\n",
    "                         df[factor + '_upper'],\n",
    "                         facecolor=color, alpha=0.2)\n",
    "        plt.ylabel(factor, fontsize=20, fontweight='bold')\n",
    "        plt.xlabel('episodes', fontsize=20, fontweight='bold')\n",
    "        plt.legend(fontsize=14)\n",
    "        plt.savefig(os.path.join(path_to_dir, 'plot_' + str(factor) + '.png'))\n",
    "        plt.show()"
   ]
  },
  {
   "cell_type": "code",
   "execution_count": 99,
   "metadata": {
    "collapsed": false,
    "deletable": true,
    "editable": true
   },
   "outputs": [
    {
     "ename": "KeyError",
     "evalue": "'Column not found: steps_mean'",
     "output_type": "error",
     "traceback": [
      "\u001b[0;31m---------------------------------------------------------------------------\u001b[0m",
      "\u001b[0;31mKeyError\u001b[0m                                  Traceback (most recent call last)",
      "\u001b[0;32m<ipython-input-99-309b6c48040c>\u001b[0m in \u001b[0;36m<module>\u001b[0;34m()\u001b[0m\n\u001b[1;32m      3\u001b[0m \u001b[0;31m#file_name = 'stats_run.csv'\u001b[0m\u001b[0;34m\u001b[0m\u001b[0;34m\u001b[0m\u001b[0m\n\u001b[1;32m      4\u001b[0m \u001b[0;31m#plot_runs(path_to_dir)\u001b[0m\u001b[0;34m\u001b[0m\u001b[0;34m\u001b[0m\u001b[0m\n\u001b[0;32m----> 5\u001b[0;31m \u001b[0msummarize_runs\u001b[0m\u001b[0;34m(\u001b[0m\u001b[0mpath_to_dir\u001b[0m\u001b[0;34m)\u001b[0m\u001b[0;34m\u001b[0m\u001b[0m\n\u001b[0m\u001b[1;32m      6\u001b[0m \u001b[0mplot_task\u001b[0m\u001b[0;34m(\u001b[0m\u001b[0mpath_to_dir\u001b[0m\u001b[0;34m)\u001b[0m\u001b[0;34m\u001b[0m\u001b[0m\n",
      "\u001b[0;32m<ipython-input-98-1eeeebfb4d72>\u001b[0m in \u001b[0;36msummarize_runs\u001b[0;34m(path_to_dir)\u001b[0m\n\u001b[1;32m     47\u001b[0m     \u001b[0mrun_files\u001b[0m \u001b[0;34m=\u001b[0m \u001b[0;34m[\u001b[0m\u001b[0mos\u001b[0m\u001b[0;34m.\u001b[0m\u001b[0mpath\u001b[0m\u001b[0;34m.\u001b[0m\u001b[0mjoin\u001b[0m\u001b[0;34m(\u001b[0m\u001b[0mrun_dir\u001b[0m\u001b[0;34m,\u001b[0m \u001b[0;34m'stats_run.csv'\u001b[0m\u001b[0;34m)\u001b[0m \u001b[0;32mfor\u001b[0m \u001b[0mrun_dir\u001b[0m \u001b[0;32min\u001b[0m \u001b[0mrun_dirs\u001b[0m\u001b[0;34m]\u001b[0m\u001b[0;34m\u001b[0m\u001b[0m\n\u001b[1;32m     48\u001b[0m     \u001b[0mdf\u001b[0m \u001b[0;34m=\u001b[0m \u001b[0mpd\u001b[0m\u001b[0;34m.\u001b[0m\u001b[0mconcat\u001b[0m\u001b[0;34m(\u001b[0m\u001b[0;34m(\u001b[0m\u001b[0mpd\u001b[0m\u001b[0;34m.\u001b[0m\u001b[0mread_csv\u001b[0m\u001b[0;34m(\u001b[0m\u001b[0mrun_file\u001b[0m\u001b[0;34m)\u001b[0m \u001b[0;32mfor\u001b[0m \u001b[0mrun_file\u001b[0m \u001b[0;32min\u001b[0m \u001b[0mrun_files\u001b[0m\u001b[0;34m)\u001b[0m\u001b[0;34m)\u001b[0m\u001b[0;34m\u001b[0m\u001b[0m\n\u001b[0;32m---> 49\u001b[0;31m     \u001b[0msteps\u001b[0m \u001b[0;34m=\u001b[0m \u001b[0mdf\u001b[0m\u001b[0;34m.\u001b[0m\u001b[0mgroupby\u001b[0m\u001b[0;34m(\u001b[0m\u001b[0;34m[\u001b[0m\u001b[0;34m'episode'\u001b[0m\u001b[0;34m]\u001b[0m\u001b[0;34m)\u001b[0m\u001b[0;34m[\u001b[0m\u001b[0;34m'steps_mean'\u001b[0m\u001b[0;34m]\u001b[0m\u001b[0;34m\u001b[0m\u001b[0m\n\u001b[0m\u001b[1;32m     50\u001b[0m     \u001b[0msteps\u001b[0m \u001b[0;34m=\u001b[0m \u001b[0mlist\u001b[0m\u001b[0;34m(\u001b[0m\u001b[0msteps\u001b[0m\u001b[0;34m)\u001b[0m\u001b[0;34m\u001b[0m\u001b[0m\n\u001b[1;32m     51\u001b[0m     \u001b[0mreward\u001b[0m \u001b[0;34m=\u001b[0m \u001b[0mdf\u001b[0m\u001b[0;34m.\u001b[0m\u001b[0mgroupby\u001b[0m\u001b[0;34m(\u001b[0m\u001b[0;34m[\u001b[0m\u001b[0;34m'episode'\u001b[0m\u001b[0;34m]\u001b[0m\u001b[0;34m)\u001b[0m\u001b[0;34m[\u001b[0m\u001b[0;34m'reward_mean'\u001b[0m\u001b[0;34m]\u001b[0m\u001b[0;34m\u001b[0m\u001b[0m\n",
      "\u001b[0;32m/Users/rubenglatt/anaconda/envs/py35/lib/python3.5/site-packages/pandas/core/base.py\u001b[0m in \u001b[0;36m__getitem__\u001b[0;34m(self, key)\u001b[0m\n\u001b[1;32m    345\u001b[0m         \u001b[0;32melse\u001b[0m\u001b[0;34m:\u001b[0m\u001b[0;34m\u001b[0m\u001b[0m\n\u001b[1;32m    346\u001b[0m             \u001b[0;32mif\u001b[0m \u001b[0mkey\u001b[0m \u001b[0;32mnot\u001b[0m \u001b[0;32min\u001b[0m \u001b[0mself\u001b[0m\u001b[0;34m.\u001b[0m\u001b[0mobj\u001b[0m\u001b[0;34m:\u001b[0m\u001b[0;34m\u001b[0m\u001b[0m\n\u001b[0;32m--> 347\u001b[0;31m                 \u001b[0;32mraise\u001b[0m \u001b[0mKeyError\u001b[0m\u001b[0;34m(\u001b[0m\u001b[0;34m\"Column not found: %s\"\u001b[0m \u001b[0;34m%\u001b[0m \u001b[0mkey\u001b[0m\u001b[0;34m)\u001b[0m\u001b[0;34m\u001b[0m\u001b[0m\n\u001b[0m\u001b[1;32m    348\u001b[0m             \u001b[0;32mreturn\u001b[0m \u001b[0mself\u001b[0m\u001b[0;34m.\u001b[0m\u001b[0m_gotitem\u001b[0m\u001b[0;34m(\u001b[0m\u001b[0mkey\u001b[0m\u001b[0;34m,\u001b[0m \u001b[0mndim\u001b[0m\u001b[0;34m=\u001b[0m\u001b[0;36m1\u001b[0m\u001b[0;34m)\u001b[0m\u001b[0;34m\u001b[0m\u001b[0m\n\u001b[1;32m    349\u001b[0m \u001b[0;34m\u001b[0m\u001b[0m\n",
      "\u001b[0;31mKeyError\u001b[0m: 'Column not found: steps_mean'"
     ]
    }
   ],
   "source": [
    "path_to_dir = '/Users/rubenglatt/playground/CBPI/logs/2017-02-19_23-09_q_policyreuse2006/task_omega/'\n",
    "\n",
    "#file_name = 'stats_run.csv'\n",
    "#plot_runs(path_to_dir)\n",
    "summarize_runs(path_to_dir)\n",
    "plot_task(path_to_dir)"
   ]
  },
  {
   "cell_type": "code",
   "execution_count": 4,
   "metadata": {
    "collapsed": true,
    "deletable": true,
    "editable": true
   },
   "outputs": [],
   "source": [
    "%matplotlib inline\n",
    "\n",
    "import os\n",
    "import pandas as pd\n",
    "import numpy as np\n",
    "import matplotlib.pyplot as plt\n",
    "import glob\n",
    "import statsmodels.stats.api as sms\n",
    "import scipy as sp\n",
    "import scipy.stats\n",
    "import csv\n",
    "import helper\n",
    "\n",
    "def save_best_episode(run):\n",
    "        # Save best Q-table for current run\n",
    "        run_dir = '/Users/rubenglatt/playground/CBPI/logs/2017-02-21_12-12_q_policyreuse2006/task_omega/run_1/'\n",
    "        df = pd.read_csv(os.path.join(run_dir, 'stats_run.csv'))\n",
    "        print(df.head(5))\n",
    "        print(df['steps_mean'].idxmax())\n",
    "        least_steps_row = df.ix[df['steps_mean'].idxmax()]\n",
    "        print(type(least_steps_row))\n",
    "        print(least_steps_row)\n",
    "        run_best_file = os.path.join(run_dir, 'stats_run_best.csv')\n",
    "        helper.write_stats_file(run_best_file,\n",
    "                                'run',\n",
    "                                'episode',\n",
    "                                'steps_total', 'steps_mean',\n",
    "                                'reward_total', 'reward_mean',\n",
    "                                'epsilon')\n",
    "        helper.write_stats_file(run_best_file,\n",
    "                                run,\n",
    "                                least_steps_row['episode'],\n",
    "                                least_steps_row['steps_total'],\n",
    "                                least_steps_row['steps_mean'],\n",
    "                                least_steps_row['reward_total'],\n",
    "                                least_steps_row['reward_mean'],\n",
    "                                least_steps_row['epsilon'])\n",
    "        helper.copy_file(os.path.join(run_dir,\n",
    "                                      'episode_' + str(least_steps_row['episode']),\n",
    "                                      'Qs.npy'),\n",
    "                         os.path.join(run_dir,\n",
    "                                      'best_Qs.npy'))"
   ]
  },
  {
   "cell_type": "code",
   "execution_count": 5,
   "metadata": {
    "collapsed": false
   },
   "outputs": [
    {
     "name": "stderr",
     "output_type": "stream",
     "text": [
      "Can't copy file - [Errno 2] No such file or directory: '/Users/rubenglatt/playground/CBPI/logs/2017-02-21_12-12_q_policyreuse2006/task_omega/run_1/episode_0.0/Qs.npy'\n"
     ]
    },
    {
     "name": "stdout",
     "output_type": "stream",
     "text": [
      "   episode  steps_total  steps_mean  reward_total  reward_mean  epsilon\n",
      "0        0          972        97.2           1.0          0.1   1.0000\n",
      "1       50          933        93.3           2.0          0.2   0.9755\n",
      "2      100          714        71.4           4.0          0.4   0.9505\n",
      "3      150          659        65.9           4.0          0.4   0.9255\n",
      "4      200          458        45.8           9.0          0.9   0.9005\n",
      "0\n",
      "<class 'pandas.core.series.Series'>\n",
      "episode           0.0\n",
      "steps_total     972.0\n",
      "steps_mean       97.2\n",
      "reward_total      1.0\n",
      "reward_mean       0.1\n",
      "epsilon           1.0\n",
      "Name: 0, dtype: float64\n"
     ]
    },
    {
     "ename": "SystemExit",
     "evalue": "",
     "output_type": "error",
     "traceback": [
      "An exception has occurred, use %tb to see the full traceback.\n",
      "\u001b[0;31mSystemExit\u001b[0m\n"
     ]
    },
    {
     "name": "stderr",
     "output_type": "stream",
     "text": [
      "/Users/rubenglatt/anaconda/envs/py35/lib/python3.5/site-packages/IPython/core/interactiveshell.py:2889: UserWarning: To exit: use 'exit', 'quit', or Ctrl-D.\n",
      "  warn(\"To exit: use 'exit', 'quit', or Ctrl-D.\", stacklevel=1)\n"
     ]
    }
   ],
   "source": [
    "save_best_episode(1)"
   ]
  },
  {
   "cell_type": "code",
   "execution_count": null,
   "metadata": {
    "collapsed": true
   },
   "outputs": [],
   "source": []
  }
 ],
 "metadata": {
  "anaconda-cloud": {},
  "kernelspec": {
   "display_name": "Python 3",
   "language": "python",
   "name": "python3"
  },
  "language_info": {
   "codemirror_mode": {
    "name": "ipython",
    "version": 3
   },
   "file_extension": ".py",
   "mimetype": "text/x-python",
   "name": "python",
   "nbconvert_exporter": "python",
   "pygments_lexer": "ipython3",
   "version": "3.5.3"
  }
 },
 "nbformat": 4,
 "nbformat_minor": 0
}
